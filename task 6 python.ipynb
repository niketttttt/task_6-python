{
 "cells": [
  {
   "cell_type": "code",
   "execution_count": 4,
   "id": "485ca37a-1cf4-45ab-abdf-42ef70fc462e",
   "metadata": {},
   "outputs": [
    {
     "name": "stdin",
     "output_type": "stream",
     "text": [
      "enter the user id 1\n",
      "enter the user name aniket\n",
      "enter the user age 22\n"
     ]
    },
    {
     "name": "stdout",
     "output_type": "stream",
     "text": [
      "Userdata: {'userid': 1, 'name': 'aniket', 'age': 22, 'age category': 'adult men'}\n"
     ]
    }
   ],
   "source": [
    "def userdata():\n",
    "    user_dict = {}\n",
    "    \n",
    "    user_dict['userid'] = int(input('enter the user id'))\n",
    "    user_dict['name'] = input('enter the user name')\n",
    "    user_dict['age'] = int(input('enter the user age'))\n",
    "\n",
    "    age = user_dict['age']\n",
    "    if age < 18:\n",
    "        user_dict['age category'] = 'teenager'\n",
    "    elif 18 <= age < 50:\n",
    "        user_dict['age category'] = 'adult men'\n",
    "    else:\n",
    "        user_dict['age category'] = 'old men'\n",
    "\n",
    "    return user_dict\n",
    "user_data = userdata()\n",
    "print(\"Userdata:\", user_data)"
   ]
  },
  {
   "cell_type": "code",
   "execution_count": null,
   "id": "33ec6342-c098-4117-8293-5cf16b28dd48",
   "metadata": {},
   "outputs": [],
   "source": [
    "# "
   ]
  }
 ],
 "metadata": {
  "kernelspec": {
   "display_name": "Python 3 (ipykernel)",
   "language": "python",
   "name": "python3"
  },
  "language_info": {
   "codemirror_mode": {
    "name": "ipython",
    "version": 3
   },
   "file_extension": ".py",
   "mimetype": "text/x-python",
   "name": "python",
   "nbconvert_exporter": "python",
   "pygments_lexer": "ipython3",
   "version": "3.12.4"
  }
 },
 "nbformat": 4,
 "nbformat_minor": 5
}
